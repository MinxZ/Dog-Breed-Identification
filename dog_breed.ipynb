{
 "cells": [
  {
   "cell_type": "code",
   "execution_count": 1,
   "metadata": {},
   "outputs": [
    {
     "name": "stderr",
     "output_type": "stream",
     "text": [
      "Using TensorFlow backend.\n"
     ]
    }
   ],
   "source": [
    "import random\n",
    "\n",
    "import matplotlib.pyplot as plt\n",
    "import numpy as np\n",
    "import pandas as pd\n",
    "from IPython.display import SVG\n",
    "\n",
    "import cv2\n",
    "from keras.applications import *\n",
    "from keras.applications.inception_v3 import preprocess_input\n",
    "from keras.layers import *\n",
    "from keras.models import *\n",
    "from keras.optimizers import *\n",
    "from keras.regularizers import *\n",
    "from keras.utils.vis_utils import model_to_dot\n",
    "from tqdm import tqdm\n"
   ]
  },
  {
   "cell_type": "code",
   "execution_count": 16,
   "metadata": {},
   "outputs": [
    {
     "name": "stderr",
     "output_type": "stream",
     "text": [
      "100%|██████████| 10222/10222 [00:29<00:00, 349.40it/s]\n"
     ]
    }
   ],
   "source": [
    "# Loading Datasets\n",
    "\n",
    "df = pd.read_csv('../dog_breed_datasets/labels.csv')\n",
    "df.head()\n",
    "\n",
    "n = len(df)\n",
    "breed = set(df['breed'])\n",
    "n_class = len(breed)\n",
    "class_to_num = dict(zip(breed, range(n_class)))\n",
    "num_to_class = dict(zip(range(n_class), breed))\n",
    "\n",
    "width = 299\n",
    "X = np.zeros((n, width, width, 3), dtype=np.uint8)\n",
    "y = np.zeros((n, n_class), dtype=np.uint8)\n",
    "for i in tqdm(range(n)):\n",
    "    X[i] = cv2.resize(\n",
    "        cv2.imread('../dog_breed_datasets/train/%s.jpg' % df['id'][i]),\n",
    "        (width, width))\n",
    "    y[i][class_to_num[df['breed'][i]]] = 1\n"
   ]
  },
  {
   "cell_type": "code",
   "execution_count": 13,
   "metadata": {},
   "outputs": [],
   "source": [
    "# Data visualization\n",
    "#\n",
    "# %matplotlib inline\n",
    "# %config InlineBackend.figure_format = 'retina'\n",
    "#\n",
    "# plt.figure(figsize=(12, 6))\n",
    "# for i in range(8):\n",
    "#     random_index = random.randint(0, n-1)\n",
    "#     plt.subplot(2, 4, i+1)\n",
    "#     plt.imshow(X[random_index][:,:,::-1])\n",
    "#     plt.title(num_to_class[y[random_index].argmax()])\n",
    "#\n"
   ]
  },
  {
   "cell_type": "code",
   "execution_count": 17,
   "metadata": {
    "scrolled": true
   },
   "outputs": [
    {
     "name": "stdout",
     "output_type": "stream",
     "text": [
      "Start computing inception_features: \n",
      "10222/10222 [==============================] - 96s 9ms/step\n",
      "Start computing xception_features: \n",
      "10222/10222 [==============================] - 159s 16ms/step\n"
     ]
    }
   ],
   "source": [
    "# Computing feature\n",
    "\n",
    "def get_features(MODEL, data=X):\n",
    "    cnn_model = MODEL(\n",
    "        include_top=False, input_shape=(width, width, 3), weights='imagenet')\n",
    "\n",
    "    inputs = Input((width, width, 3))\n",
    "    x = inputs\n",
    "    x = Lambda(preprocess_input, name='preprocessing')(x)\n",
    "    x = cnn_model(x)\n",
    "    x = GlobalAveragePooling2D()(x)\n",
    "    cnn_model = Model(inputs, x)\n",
    "\n",
    "    features = cnn_model.predict(data, batch_size=64, verbose=1)\n",
    "    return features\n",
    "\n",
    "\n",
    "print('Start computing inception_features: ')\n",
    "inception_features = get_features(InceptionV3, X)\n",
    "print('Start computing xception_features: ')\n",
    "xception_features = get_features(Xception, X)\n",
    "features = np.concatenate([inception_features, xception_features], axis=-1)\n"
   ]
  },
  {
   "cell_type": "code",
   "execution_count": 29,
   "metadata": {},
   "outputs": [
    {
     "data": {
      "text/plain": [
       "(10222, 4096)"
      ]
     },
     "execution_count": 29,
     "metadata": {},
     "output_type": "execute_result"
    }
   ],
   "source": [
    "features.shape"
   ]
  },
  {
   "cell_type": "code",
   "execution_count": 30,
   "metadata": {
    "scrolled": false
   },
   "outputs": [
    {
     "name": "stdout",
     "output_type": "stream",
     "text": [
      "Train on 9199 samples, validate on 1023 samples\n",
      "Epoch 1/10\n",
      "9199/9199 [==============================] - 2s 238us/step - loss: 1.8820 - acc: 0.5969 - val_loss: 0.7006 - val_acc: 0.8240\n",
      "Epoch 2/10\n",
      "9199/9199 [==============================] - 0s 29us/step - loss: 0.5803 - acc: 0.8360 - val_loss: 0.5592 - val_acc: 0.8270\n",
      "Epoch 3/10\n",
      "9199/9199 [==============================] - 0s 28us/step - loss: 0.4417 - acc: 0.8692 - val_loss: 0.4985 - val_acc: 0.8465\n",
      "Epoch 4/10\n",
      "9199/9199 [==============================] - 0s 28us/step - loss: 0.3598 - acc: 0.8954 - val_loss: 0.4936 - val_acc: 0.8426\n",
      "Epoch 5/10\n",
      "9199/9199 [==============================] - 0s 28us/step - loss: 0.3040 - acc: 0.9130 - val_loss: 0.4707 - val_acc: 0.8514\n",
      "Epoch 6/10\n",
      "9199/9199 [==============================] - 0s 28us/step - loss: 0.2600 - acc: 0.9272 - val_loss: 0.4662 - val_acc: 0.8583\n",
      "Epoch 7/10\n",
      "9199/9199 [==============================] - 0s 28us/step - loss: 0.2277 - acc: 0.9354 - val_loss: 0.4692 - val_acc: 0.8524\n",
      "Epoch 8/10\n",
      "9199/9199 [==============================] - 0s 28us/step - loss: 0.1999 - acc: 0.9481 - val_loss: 0.4522 - val_acc: 0.8631\n",
      "Epoch 9/10\n",
      "9199/9199 [==============================] - 0s 28us/step - loss: 0.1785 - acc: 0.9514 - val_loss: 0.4687 - val_acc: 0.8573\n",
      "Epoch 10/10\n",
      "9199/9199 [==============================] - 0s 28us/step - loss: 0.1600 - acc: 0.9590 - val_loss: 0.4562 - val_acc: 0.8661\n"
     ]
    }
   ],
   "source": [
    "# Training models\n",
    "inputs = Input(features.shape[1:])\n",
    "x = inputs\n",
    "x = Dropout(0.5)(x)\n",
    "# x = Dense(4096, activation='relu', name='fc1')(x)\n",
    "# x = Dense(4096, activation='relu', name='fc2')(x)\n",
    "# x = GlobalAveragePooling2D(name='avg_pool')(x)\n",
    "x = Dense(n_class, activation='softmax', name='predictions')(x)\n",
    "model = Model(inputs, x)\n",
    "model.compile(\n",
    "    optimizer='adam', loss='categorical_crossentropy', metrics=['accuracy'])\n",
    "h = model.fit(features, y, batch_size=128, epochs=10, validation_split=0.1)"
   ]
  },
  {
   "cell_type": "code",
   "execution_count": 32,
   "metadata": {},
   "outputs": [
    {
     "name": "stderr",
     "output_type": "stream",
     "text": [
      "100%|██████████| 10357/10357 [00:26<00:00, 390.50it/s]\n"
     ]
    },
    {
     "name": "stdout",
     "output_type": "stream",
     "text": [
      "Start computing inception_features: \n",
      "10357/10357 [==============================] - 100s 10ms/step\n",
      "Start computing xception_features: \n",
      "10357/10357 [==============================] - 163s 16ms/step\n"
     ]
    }
   ],
   "source": [
    "# Loading test Datasets\n",
    "df2 = pd.read_csv('../dog_breed_datasets/sample_submission.csv')\n",
    "\n",
    "n_test = len(df2)\n",
    "X_test = np.zeros((n_test, width, width, 3), dtype=np.uint8)\n",
    "for i in tqdm(range(n_test)):\n",
    "    X_test[i] = cv2.resize(\n",
    "        cv2.imread('../dog_breed_datasets/test/%s.jpg' % df2['id'][i]),\n",
    "        (width, width))\n",
    "\n",
    "# Compute test dataset features\n",
    "print('Start computing inception_features: ')\n",
    "inception_features = get_features(InceptionV3, X_test)\n",
    "print('Start computing xception_features: ')\n",
    "xception_features = get_features(Xception, X_test)\n",
    "\n",
    "features_test = np.concatenate(\n",
    "    [inception_features, xception_features], axis=-1)\n",
    "\n",
    "# predict\n",
    "y_pred = model.predict(features_test, batch_size=128)\n",
    "\n",
    "for b in breed:\n",
    "    df2[b] = y_pred[:, class_to_num[b]]\n",
    "\n",
    "df2.to_csv('pred.csv', index=None)"
   ]
  },
  {
   "cell_type": "code",
   "execution_count": null,
   "metadata": {},
   "outputs": [],
   "source": []
  }
 ],
 "metadata": {
  "kernelspec": {
   "display_name": "Python 2",
   "language": "python",
   "name": "python2"
  },
  "language_info": {
   "codemirror_mode": {
    "name": "ipython",
    "version": 2
   },
   "file_extension": ".py",
   "mimetype": "text/x-python",
   "name": "python",
   "nbconvert_exporter": "python",
   "pygments_lexer": "ipython2",
   "version": "2.7.12"
  }
 },
 "nbformat": 4,
 "nbformat_minor": 2
}
